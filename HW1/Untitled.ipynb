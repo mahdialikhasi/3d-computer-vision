{
 "cells": [
  {
   "cell_type": "code",
   "execution_count": 1,
   "metadata": {},
   "outputs": [],
   "source": [
    "import matplotlib.pyplot as plt\n",
    "import matplotlib.patches as patches\n",
    "import numpy as np\n",
    "import math"
   ]
  },
  {
   "cell_type": "markdown",
   "metadata": {},
   "source": [
    "## Part a"
   ]
  },
  {
   "cell_type": "code",
   "execution_count": 74,
   "metadata": {},
   "outputs": [
    {
     "data": {
      "image/png": "[encoded data removed]",
      "text/plain": [
       "<Figure size 432x288 with 1 Axes>"
      ]
     },
     "metadata": {
      "needs_background": "light"
     },
     "output_type": "display_data"
    }
   ],
   "source": [
    "poly = np.array(\n",
    "    [\n",
    "        [-1, -1, 1],\n",
    "        [-1, 1, 1],\n",
    "        [1,1, 1],\n",
    "        [1, -1, 1]\n",
    "    ]\n",
    ")\n",
    "\n",
    "fig,ax = plt.subplots(1)\n",
    "shape = patches.Polygon(poly[:,:2],linewidth=1,facecolor='r')\n",
    "ax.add_patch(shape)\n",
    "plt.grid(color='g', linestyle='-', linewidth=0.5)\n",
    "plt.axis([-4, 4, -4, 4])\n",
    "plt.show()\n"
   ]
  },
  {
   "cell_type": "markdown",
   "metadata": {},
   "source": [
    "## Part b"
   ]
  },
  {
   "cell_type": "markdown",
   "metadata": {},
   "source": [
    "### Rigid-body"
   ]
  },
  {
   "cell_type": "code",
   "execution_count": 13,
   "metadata": {},
   "outputs": [],
   "source": [
    "def plot(inp, axis = [-4, 4, -4, 4]):\n",
    "    fig,ax = plt.subplots(1)\n",
    "    shape = patches.Polygon(inp,linewidth=1,facecolor='r')\n",
    "    ax.add_patch(shape)\n",
    "    plt.grid(color='g', linestyle='-', linewidth=0.5)\n",
    "    plt.axis(axis)\n",
    "    plt.show()"
   ]
  },
  {
   "cell_type": "code",
   "execution_count": 77,
   "metadata": {},
   "outputs": [
    {
     "name": "stdout",
     "output_type": "stream",
     "text": [
      "Please enter the rotation alpha in degree : 45\n",
      "please enter x and y translation, separated with space : 1 1\n"
     ]
    }
   ],
   "source": [
    "r = input(\"Please enter the rotation alpha in degree : \")\n",
    "t1, t2 = input(\"please enter x and y translation, separated with space : \").split()\n",
    "\n",
    "r = int(r)\n",
    "t1 = int(t1)\n",
    "t2 = int(t2)"
   ]
  },
  {
   "cell_type": "code",
   "execution_count": 78,
   "metadata": {},
   "outputs": [
    {
     "data": {
      "image/png": "[encoded data removed]",
      "text/plain": [
       "<Figure size 432x288 with 1 Axes>"
      ]
     },
     "metadata": {
      "needs_background": "light"
     },
     "output_type": "display_data"
    }
   ],
   "source": [
    "rigid_matrix = np.array(\n",
    "    [\n",
    "        [math.cos(math.radians(r)), -1 * math.sin(math.radians(r)), t1],\n",
    "        [math.sin(math.radians(r)), math.cos(math.radians(r)), t2],\n",
    "        [0,0,1]\n",
    "    ])\n",
    "\n",
    "\n",
    "poly_rigid = np.transpose(\n",
    "    np.matmul(rigid_matrix, np.transpose(poly))\n",
    ")\n",
    "\n",
    "plot(poly_rigid[:, :2])"
   ]
  },
  {
   "cell_type": "code",
   "execution_count": 79,
   "metadata": {},
   "outputs": [
    {
     "data": {
      "text/plain": [
       "array([[ 1.        , -0.41421356,  1.        ],\n",
       "       [-0.41421356,  1.        ,  1.        ],\n",
       "       [ 1.        ,  2.41421356,  1.        ],\n",
       "       [ 2.41421356,  1.        ,  1.        ]])"
      ]
     },
     "execution_count": 79,
     "metadata": {},
     "output_type": "execute_result"
    }
   ],
   "source": [
    "poly_rigid"
   ]
  },
  {
   "cell_type": "markdown",
   "metadata": {},
   "source": [
    "### Similarity"
   ]
  },
  {
   "cell_type": "code",
   "execution_count": 6,
   "metadata": {},
   "outputs": [
    {
     "name": "stdout",
     "output_type": "stream",
     "text": [
      "Please enter the rotation alpha in degree : 45\n",
      "please enter x and y translation, separated with space : 0 0\n",
      "please enter similarity scale : 2\n"
     ]
    }
   ],
   "source": [
    "r = input(\"Please enter the rotation alpha in degree : \")\n",
    "t1, t2 = input(\"please enter x and y translation, separated with space : \").split()\n",
    "s = input(\"please enter similarity scale : \")\n",
    "\n",
    "r = int(r)\n",
    "t1 = int(t1)\n",
    "t2 = int(t2)\n",
    "s = int(s)"
   ]
  },
  {
   "cell_type": "code",
   "execution_count": 10,
   "metadata": {},
   "outputs": [
    {
     "data": {
      "image/png": "[encoded data removed]",
      "text/plain": [
       "<Figure size 432x288 with 1 Axes>"
      ]
     },
     "metadata": {
      "needs_background": "light"
     },
     "output_type": "display_data"
    }
   ],
   "source": [
    "similarity_matrix = np.array(\n",
    "    [\n",
    "        [s * math.cos(math.radians(r)), -s * math.sin(math.radians(r)), t1],\n",
    "        [s * math.sin(math.radians(r)), s * math.cos(math.radians(r)), t2],\n",
    "        [0,0,1]\n",
    "    ])\n",
    "\n",
    "\n",
    "poly_similarity = np.transpose(\n",
    "    np.matmul(similarity_matrix, np.transpose(poly))\n",
    ")\n",
    "\n",
    "plot(poly_similarity[:,:2])"
   ]
  },
  {
   "cell_type": "code",
   "execution_count": 115,
   "metadata": {},
   "outputs": [
    {
     "data": {
      "text/plain": [
       "array([[-2.22044605e-16, -2.82842712e+00,  1.00000000e+00],\n",
       "       [-2.82842712e+00,  2.22044605e-16,  1.00000000e+00],\n",
       "       [ 2.22044605e-16,  2.82842712e+00,  1.00000000e+00],\n",
       "       [ 2.82842712e+00, -2.22044605e-16,  1.00000000e+00]])"
      ]
     },
     "execution_count": 115,
     "metadata": {},
     "output_type": "execute_result"
    }
   ],
   "source": [
    "poly_similarity"
   ]
  },
  {
   "cell_type": "markdown",
   "metadata": {},
   "source": [
    "### affine"
   ]
  },
  {
   "cell_type": "code",
   "execution_count": 29,
   "metadata": {},
   "outputs": [
    {
     "name": "stdout",
     "output_type": "stream",
     "text": [
      "Please enter r1 through r6, separeted with space : 1 2 0 2 1 0\n"
     ]
    }
   ],
   "source": [
    "r1, r2, r3, r4, r5, r6 = input(\"Please enter r1 through r6, separeted with space : \").split()\n",
    "\n",
    "r1 = int(r1)\n",
    "r2 = int(r2)\n",
    "r3 = int(r3)\n",
    "r4 = int(r4)\n",
    "r5 = int(r5)\n",
    "r6 = int(r6)"
   ]
  },
  {
   "cell_type": "code",
   "execution_count": 30,
   "metadata": {},
   "outputs": [
    {
     "data": {
      "image/png": "[encoded data removed]",
      "text/plain": [
       "<Figure size 432x288 with 1 Axes>"
      ]
     },
     "metadata": {
      "needs_background": "light"
     },
     "output_type": "display_data"
    }
   ],
   "source": [
    "affine_matrix = np.array(\n",
    "    [\n",
    "        [r1, r2, r3],\n",
    "        [r4, r5, r6],\n",
    "        [0,0,1]\n",
    "    ])\n",
    "\n",
    "\n",
    "poly_affine = np.transpose(\n",
    "    np.matmul(affine_matrix, np.transpose(poly))\n",
    ")\n",
    "\n",
    "plot(poly_affine[:,:2])"
   ]
  },
  {
   "cell_type": "code",
   "execution_count": 144,
   "metadata": {},
   "outputs": [
    {
     "data": {
      "text/plain": [
       "array([[-3, -3,  1],\n",
       "       [ 1, -1,  1],\n",
       "       [ 3,  3,  1],\n",
       "       [-1,  1,  1]])"
      ]
     },
     "execution_count": 144,
     "metadata": {},
     "output_type": "execute_result"
    }
   ],
   "source": [
    "poly_affine"
   ]
  },
  {
   "cell_type": "markdown",
   "metadata": {},
   "source": [
    "### projective"
   ]
  },
  {
   "cell_type": "code",
   "execution_count": 61,
   "metadata": {},
   "outputs": [
    {
     "name": "stdout",
     "output_type": "stream",
     "text": [
      "Please enter r1 through r8, separeted with space : 5 6 3 -2 -8 -6 1 3\n"
     ]
    }
   ],
   "source": [
    "r1, r2, r3, r4, r5, r6, r7, r8 = input(\"Please enter r1 through r8, separeted with space : \").split()\n",
    "\n",
    "r1 = int(r1)\n",
    "r2 = int(r2)\n",
    "r3 = int(r3)\n",
    "r4 = int(r4)\n",
    "r5 = int(r5)\n",
    "r6 = int(r6)\n",
    "r7 = int(r7)\n",
    "r8 = int(r8)"
   ]
  },
  {
   "cell_type": "code",
   "execution_count": 62,
   "metadata": {},
   "outputs": [
    {
     "data": {
      "image/png": "[encoded data removed]",
      "text/plain": [
       "<Figure size 432x288 with 1 Axes>"
      ]
     },
     "metadata": {
      "needs_background": "light"
     },
     "output_type": "display_data"
    }
   ],
   "source": [
    "projective_matrix = np.array(\n",
    "    [\n",
    "        [r1, r2, r3],\n",
    "        [r4, r5, r6],\n",
    "        [r7,r8,1]\n",
    "    ])\n",
    "\n",
    "\n",
    "poly_projective = np.transpose(\n",
    "    np.matmul(projective_matrix, np.transpose(poly))\n",
    ")\n",
    "\n",
    "for i in range(poly_projective.shape[0]):\n",
    "    poly_projective[i] = poly_projective[i] / poly_projective[i, 2]\n",
    "\n",
    "plot(poly_projective[:,:2])"
   ]
  },
  {
   "cell_type": "code",
   "execution_count": 147,
   "metadata": {},
   "outputs": [
    {
     "data": {
      "text/plain": [
       "array([[ 2,  1,  1],\n",
       "       [ 1,  0,  1],\n",
       "       [ 2,  2,  1],\n",
       "       [-2, -7,  1]])"
      ]
     },
     "execution_count": 147,
     "metadata": {},
     "output_type": "execute_result"
    }
   ],
   "source": [
    "poly_projective"
   ]
  },
  {
   "cell_type": "markdown",
   "metadata": {},
   "source": [
    "## Part C"
   ]
  },
  {
   "cell_type": "markdown",
   "metadata": {},
   "source": [
    "Compute least square equation. If it has an answere, the transformation is not prespective. If the answere has a valid R and T, its a rigid body motion else, it is an affine transformation"
   ]
  },
  {
   "cell_type": "code",
   "execution_count": 53,
   "metadata": {},
   "outputs": [],
   "source": [
    "def check_preserve(X1, X2):\n",
    "    a_matrix = X1\n",
    "    b_matrix = X2\n",
    "    \n",
    "    at_a = np.matmul(\n",
    "        np.transpose(a_matrix), a_matrix\n",
    "    )\n",
    "        \n",
    "    transform_matrix = []\n",
    "    for i in range(2):\n",
    "        solution = np.matmul(\n",
    "            np.matmul(\n",
    "                np.linalg.inv(at_a), np.transpose(a_matrix)\n",
    "            ),\n",
    "            b_matrix[:, i]\n",
    "        )\n",
    "        transform_matrix.append(np.transpose(solution))\n",
    "\n",
    "    transform_matrix = np.array(transform_matrix)  \n",
    "    \n",
    "    pp = np.transpose(\n",
    "        np.matmul(transform_matrix, np.transpose(a_matrix))\n",
    "    ) - b_matrix\n",
    "    if((pp < 1e-4).all() and (pp > -1 * 1e-4).all()):\n",
    "        print(\"parallelism attributes preserved\")\n",
    "\n",
    "    tmp = np.matmul(np.transpose(transform_matrix[:2,:2]), transform_matrix[:2,:2])\n",
    "    tmp = tmp / tmp[0,0]\n",
    "    if((tmp - np.eye(2) < 1e-4).all()):\n",
    "        print(\"angels preserved\")\n",
    "\n",
    "    det = transform_matrix[0,0] * transform_matrix[1, 1] - transform_matrix[0, 1] * transform_matrix[1, 0]\n",
    "    if(det > 1 - 1e-4 and det < 1 + 1e-4):\n",
    "        print(\"length preserved\")\n",
    "        \n",
    "    return transform_matrix"
   ]
  },
  {
   "cell_type": "markdown",
   "metadata": {},
   "source": [
    "#### check rigid body motion sample"
   ]
  },
  {
   "cell_type": "code",
   "execution_count": 63,
   "metadata": {},
   "outputs": [
    {
     "name": "stdout",
     "output_type": "stream",
     "text": [
      "parallelism attributes preserved\n",
      "angels preserved\n",
      "length preserved\n"
     ]
    }
   ],
   "source": [
    "a_matrix = np.array([\n",
    "    [-1, -1, 1],\n",
    "    [-1, 1, 1],\n",
    "    [1, 1, 1],\n",
    "    [1, -1, 1],\n",
    "])\n",
    "\n",
    "b_matrix = np.array([\n",
    "    [1.        , -0.41421356 ],\n",
    "    [-0.41421356,  1.        ],\n",
    "    [1.        ,  2.41421356 ],\n",
    "    [2.41421356,   1.        ],\n",
    "])\n",
    "\n",
    "tr = check_preserve(a_matrix, b_matrix)"
   ]
  },
  {
   "cell_type": "markdown",
   "metadata": {},
   "source": [
    "#### check similarity sample"
   ]
  },
  {
   "cell_type": "code",
   "execution_count": 64,
   "metadata": {},
   "outputs": [
    {
     "name": "stdout",
     "output_type": "stream",
     "text": [
      "parallelism attributes preserved\n",
      "angels preserved\n"
     ]
    }
   ],
   "source": [
    "a_matrix = np.array([\n",
    "    [-1, -1, 1],\n",
    "    [-1, 1, 1],\n",
    "    [1, 1, 1],\n",
    "    [1, -1, 1],\n",
    "])\n",
    "\n",
    "b_matrix = np.array([\n",
    "    [-2.22044605e-16, -2.82842712e+00],\n",
    "    [-2.82842712e+00,  2.22044605e-16],\n",
    "    [ 2.22044605e-16,  2.82842712e+00],\n",
    "    [ 2.82842712e+00, -2.22044605e-16]\n",
    "])\n",
    "\n",
    "tr = check_preserve(a_matrix, b_matrix)"
   ]
  },
  {
   "cell_type": "markdown",
   "metadata": {},
   "source": [
    "#### check affine sample"
   ]
  },
  {
   "cell_type": "code",
   "execution_count": 65,
   "metadata": {},
   "outputs": [
    {
     "name": "stdout",
     "output_type": "stream",
     "text": [
      "parallelism attributes preserved\n"
     ]
    }
   ],
   "source": [
    "a_matrix = np.array([\n",
    "    [-1, -1, 1],\n",
    "    [-1, 1, 1],\n",
    "    [1, 1, 1],\n",
    "    [1, -1, 1],\n",
    "])\n",
    "\n",
    "b_matrix = np.array([\n",
    "    [-3, -3],\n",
    "    [ 1, -1],\n",
    "    [ 3,  3],\n",
    "    [-1,  1]\n",
    "])\n",
    "\n",
    "tr = check_preserve(a_matrix, b_matrix)"
   ]
  },
  {
   "cell_type": "markdown",
   "metadata": {},
   "source": [
    "#### check prespective sample"
   ]
  },
  {
   "cell_type": "code",
   "execution_count": 66,
   "metadata": {},
   "outputs": [],
   "source": [
    "a_matrix = np.array([\n",
    "    [-1, -1, 1],\n",
    "    [-1, 1, 1],\n",
    "    [1, 1, 1],\n",
    "    [1, -1, 1],\n",
    "])\n",
    "\n",
    "b_matrix = np.array([\n",
    "    [ 2,  1],\n",
    "    [ 1,  0],\n",
    "    [ 2,  2],\n",
    "    [-2, -7]\n",
    "])\n",
    "\n",
    "tr = check_preserve(a_matrix, b_matrix)"
   ]
  },
  {
   "cell_type": "markdown",
   "metadata": {},
   "source": [
    "## Part D"
   ]
  },
  {
   "cell_type": "code",
   "execution_count": 68,
   "metadata": {},
   "outputs": [
    {
     "data": {
      "image/png": "[encoded data removed]",
      "text/plain": [
       "<Figure size 432x288 with 1 Axes>"
      ]
     },
     "metadata": {
      "needs_background": "light"
     },
     "output_type": "display_data"
    }
   ],
   "source": [
    "poly = np.array(\n",
    "    [\n",
    "        [-1, -1, 1],\n",
    "        [-1, 1, 1],\n",
    "        [1,1, 1],\n",
    "        [1, -1, 1]\n",
    "    ]\n",
    ")\n",
    "\n",
    "# plot the square\n",
    "plot(poly[:, :2])"
   ]
  },
  {
   "cell_type": "code",
   "execution_count": 72,
   "metadata": {},
   "outputs": [],
   "source": [
    "theta1 = 20\n",
    "theta2 = 35\n",
    "t11 = 1\n",
    "t12 = 2\n",
    "t21 = -1\n",
    "t22 = -3\n",
    "rigid1 = np.array(\n",
    "    [\n",
    "        [math.cos(math.radians(theta1)), -1 * math.sin(math.radians(theta1)), t11],\n",
    "        [math.sin(math.radians(theta1)), math.cos(math.radians(theta1)), t12],\n",
    "        [0,0,1]\n",
    "    ])\n",
    "\n",
    "rigid2 = np.array(\n",
    "    [\n",
    "        [math.cos(math.radians(theta2)), -1 * math.sin(math.radians(theta2)), t21],\n",
    "        [math.sin(math.radians(theta2)), math.cos(math.radians(theta2)), t22],\n",
    "        [0,0,1]\n",
    "    ])"
   ]
  },
  {
   "cell_type": "code",
   "execution_count": 73,
   "metadata": {},
   "outputs": [
    {
     "data": {
      "image/png": "[encoded data removed]",
      "text/plain": [
       "<Figure size 432x288 with 1 Axes>"
      ]
     },
     "metadata": {
      "needs_background": "light"
     },
     "output_type": "display_data"
    }
   ],
   "source": [
    "# first move by rigid1 then by rigid2\n",
    "poly_rigid = np.transpose(\n",
    "    np.matmul(\n",
    "        rigid2, np.transpose(\n",
    "            np.transpose(\n",
    "                np.matmul(rigid1, np.transpose(poly))\n",
    "            )\n",
    "        )\n",
    "    )\n",
    ")\n",
    "\n",
    "plot(poly_rigid[:, :2])\n"
   ]
  },
  {
   "cell_type": "code",
   "execution_count": 74,
   "metadata": {},
   "outputs": [
    {
     "data": {
      "image/png": "[encoded data removed]",
      "text/plain": [
       "<Figure size 432x288 with 1 Axes>"
      ]
     },
     "metadata": {
      "needs_background": "light"
     },
     "output_type": "display_data"
    }
   ],
   "source": [
    "# first move by rigid2 then by rigid1\n",
    "poly_rigid = np.transpose(\n",
    "    np.matmul(\n",
    "        rigid1, np.transpose(\n",
    "            np.transpose(\n",
    "                np.matmul(rigid2, np.transpose(poly))\n",
    "            )\n",
    "        )\n",
    "    )\n",
    ")\n",
    "\n",
    "plot(poly_rigid[:, :2])\n"
   ]
  },
  {
   "cell_type": "markdown",
   "metadata": {},
   "source": [
    "The result are not identical, but the oriantation is the same\n",
    "this property hold in the 3D space too because ::"
   ]
  },
  {
   "cell_type": "code",
   "execution_count": 75,
   "metadata": {},
   "outputs": [
    {
     "name": "stdout",
     "output_type": "stream",
     "text": [
      "[[ 0.57357644 -0.81915204  1.08636781]\n",
      " [ 0.81915204  0.57357644 -1.16109801]\n",
      " [ 0.          0.          1.        ]]\n"
     ]
    }
   ],
   "source": [
    "print(np.matmul(rigid1, rigid2))"
   ]
  },
  {
   "cell_type": "code",
   "execution_count": 76,
   "metadata": {},
   "outputs": [
    {
     "name": "stdout",
     "output_type": "stream",
     "text": [
      "[[ 0.57357644 -0.81915204 -1.32800083]\n",
      " [ 0.81915204  0.57357644 -0.78811948]\n",
      " [ 0.          0.          1.        ]]\n"
     ]
    }
   ],
   "source": [
    "print(np.matmul(rigid2, rigid1))"
   ]
  },
  {
   "cell_type": "markdown",
   "metadata": {},
   "source": [
    "The only difference between R2 * R1 and R1 * R2 is in the 3rd column, which is the translation column. This indicates that we can transform from one to another with only a translation"
   ]
  },
  {
   "cell_type": "code",
   "execution_count": null,
   "metadata": {},
   "outputs": [],
   "source": []
  }
 ],
 "metadata": {
  "kernelspec": {
   "display_name": "Python 3",
   "language": "python",
   "name": "python3"
  },
  "language_info": {
   "codemirror_mode": {
    "name": "ipython",
    "version": 3
   },
   "file_extension": ".py",
   "mimetype": "text/x-python",
   "name": "python",
   "nbconvert_exporter": "python",
   "pygments_lexer": "ipython3",
   "version": "3.8.5"
  }
 },
 "nbformat": 4,
 "nbformat_minor": 4
}
