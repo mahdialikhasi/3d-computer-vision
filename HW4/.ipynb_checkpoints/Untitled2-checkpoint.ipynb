{
 "cells": [
  {
   "cell_type": "code",
   "execution_count": 1,
   "metadata": {},
   "outputs": [],
   "source": [
    "import numpy as np\n",
    "import pandas as pd\n",
    "import cv2\n",
    "import math\n",
    "import matplotlib.pyplot as plt\n",
    "import scipy.io\n",
    "import random"
   ]
  },
  {
   "cell_type": "code",
   "execution_count": 2,
   "metadata": {},
   "outputs": [
    {
     "ename": "error",
     "evalue": "OpenCV(4.4.0) /tmp/pip-req-build-99ib2vsi/opencv/modules/imgproc/src/color.cpp:182: error: (-215:Assertion failed) !_src.empty() in function 'cvtColor'\n",
     "output_type": "error",
     "traceback": [
      "\u001b[0;31m---------------------------------------------------------------------------\u001b[0m",
      "\u001b[0;31merror\u001b[0m                                     Traceback (most recent call last)",
      "\u001b[0;32m<ipython-input-2-71e1077d0397>\u001b[0m in \u001b[0;36m<module>\u001b[0;34m\u001b[0m\n\u001b[1;32m      1\u001b[0m \u001b[0;31m# import image\u001b[0m\u001b[0;34m\u001b[0m\u001b[0;34m\u001b[0m\u001b[0;34m\u001b[0m\u001b[0m\n\u001b[1;32m      2\u001b[0m \u001b[0mimage1\u001b[0m \u001b[0;34m=\u001b[0m \u001b[0mcv2\u001b[0m\u001b[0;34m.\u001b[0m\u001b[0mimread\u001b[0m\u001b[0;34m(\u001b[0m\u001b[0;34m'img1.png'\u001b[0m\u001b[0;34m)\u001b[0m\u001b[0;34m\u001b[0m\u001b[0;34m\u001b[0m\u001b[0m\n\u001b[0;32m----> 3\u001b[0;31m \u001b[0mimage1_rgb\u001b[0m \u001b[0;34m=\u001b[0m \u001b[0mcv2\u001b[0m\u001b[0;34m.\u001b[0m\u001b[0mcvtColor\u001b[0m\u001b[0;34m(\u001b[0m\u001b[0mimage1\u001b[0m\u001b[0;34m,\u001b[0m \u001b[0mcv2\u001b[0m\u001b[0;34m.\u001b[0m\u001b[0mCOLOR_BGR2RGB\u001b[0m\u001b[0;34m)\u001b[0m   \u001b[0;31m# BGR -> RGB\u001b[0m\u001b[0;34m\u001b[0m\u001b[0;34m\u001b[0m\u001b[0m\n\u001b[0m\u001b[1;32m      4\u001b[0m \u001b[0mprint\u001b[0m \u001b[0;34m(\u001b[0m\u001b[0mtype\u001b[0m\u001b[0;34m(\u001b[0m\u001b[0mimage1_rgb\u001b[0m\u001b[0;34m)\u001b[0m\u001b[0;34m)\u001b[0m\u001b[0;34m\u001b[0m\u001b[0;34m\u001b[0m\u001b[0m\n\u001b[1;32m      5\u001b[0m \u001b[0;34m\u001b[0m\u001b[0m\n",
      "\u001b[0;31merror\u001b[0m: OpenCV(4.4.0) /tmp/pip-req-build-99ib2vsi/opencv/modules/imgproc/src/color.cpp:182: error: (-215:Assertion failed) !_src.empty() in function 'cvtColor'\n"
     ]
    }
   ],
   "source": [
    "# import image\n",
    "image1 = cv2.imread('img1.png')\n",
    "image1_rgb = cv2.cvtColor(image1, cv2.COLOR_BGR2RGB)   # BGR -> RGB \n",
    "print (type(image1_rgb))\n",
    "\n",
    "image2 = cv2.imread('img2.png')\n",
    "image2_rgb = cv2.cvtColor(image2, cv2.COLOR_BGR2RGB)   # BGR -> RGB \n",
    "print (type(image2_rgb))"
   ]
  },
  {
   "cell_type": "code",
   "execution_count": null,
   "metadata": {},
   "outputs": [],
   "source": [
    "# import inlier points\n",
    "f = scipy.io.loadmat('points_inliers.mat')\n",
    "inlier_points1 = np.array(f['X1'])\n",
    "inlier_points2 = np.array(f['X2'])"
   ]
  },
  {
   "cell_type": "markdown",
   "metadata": {},
   "source": [
    "# Part a"
   ]
  },
  {
   "cell_type": "markdown",
   "metadata": {},
   "source": [
    "## compute fundemental matrxi"
   ]
  },
  {
   "cell_type": "code",
   "execution_count": null,
   "metadata": {},
   "outputs": [],
   "source": [
    "inlier_f_matrix = cv2.findFundamentalMat(inlier_points1, inlier_points2, cv2.FM_8POINT)"
   ]
  },
  {
   "cell_type": "code",
   "execution_count": null,
   "metadata": {},
   "outputs": [],
   "source": [
    "inlier_f_matrix"
   ]
  },
  {
   "cell_type": "markdown",
   "metadata": {},
   "source": [
    "## show points and epipolar lines"
   ]
  },
  {
   "cell_type": "code",
   "execution_count": null,
   "metadata": {},
   "outputs": [],
   "source": [
    "# epipolar lines from view 2 to view 1\n",
    "plt.imshow(image1_rgb)\n",
    "plt.plot(inlier_points1[:,0], inlier_points1[:,1], 'yo')"
   ]
  },
  {
   "cell_type": "code",
   "execution_count": null,
   "metadata": {},
   "outputs": [],
   "source": [
    "plt.axis([0, 3000, 2000, 0])\n",
    "plt.imshow(image1_rgb)\n",
    "plt.plot(inlier_points1[:,0], inlier_points1[:,1], 'yo')\n",
    "for i in range(len(inlier_points2)):\n",
    "    t = np.matmul(np.array([np.append(inlier_points2[i], [1])]), inlier_f_matrix[0])[0]\n",
    "    x = np.linspace(0,3000,100)\n",
    "    y = (-t[2] -x * t[0])/ t[1]\n",
    "    plt.plot(x, y, '-r')"
   ]
  },
  {
   "cell_type": "code",
   "execution_count": null,
   "metadata": {},
   "outputs": [],
   "source": [
    "# epipolar lines from view 1 to view 2\n",
    "plt.imshow(image2_rgb)\n",
    "plt.plot(inlier_points2[:,0], inlier_points2[:,1], 'yo')"
   ]
  },
  {
   "cell_type": "code",
   "execution_count": null,
   "metadata": {},
   "outputs": [],
   "source": [
    "plt.axis([0, 3000, 2000, 0])\n",
    "plt.imshow(image2_rgb)\n",
    "plt.plot(inlier_points2[:,0], inlier_points2[:,1], 'yo')\n",
    "for i in range(len(inlier_points1)):\n",
    "    t = np.matmul(inlier_f_matrix[0], np.array([np.append(inlier_points1[i], [1])]).transpose())[:,0]\n",
    "    x = np.linspace(0,3000,100)\n",
    "    y = (-t[2] -x * t[0])/ t[1]\n",
    "    plt.plot(x, y, '-r')"
   ]
  },
  {
   "cell_type": "markdown",
   "metadata": {},
   "source": [
    "# Part b"
   ]
  },
  {
   "cell_type": "code",
   "execution_count": null,
   "metadata": {},
   "outputs": [],
   "source": [
    "# calculate the iterations which is needed\n",
    "p = 99/100\n",
    "w = 0.5\n",
    "n = math.ceil(math.log10(1 - p)/math.log10(1 - (1 - w) ** 8))\n",
    "print(n)"
   ]
  },
  {
   "cell_type": "code",
   "execution_count": null,
   "metadata": {},
   "outputs": [],
   "source": [
    "# import points\n",
    "f = scipy.io.loadmat('points.mat')\n",
    "points1 = np.array(f['X1'])\n",
    "points2 = np.array(f['X2'])"
   ]
  },
  {
   "cell_type": "code",
   "execution_count": null,
   "metadata": {},
   "outputs": [],
   "source": [
    "# compute fundamental matrix using 8-algorithm and ransac\n",
    "max_inliers = 0\n",
    "for i in range(n):\n",
    "    # select 8 random point\n",
    "    a = list(range(len(points1)))\n",
    "    random.shuffle(a)\n",
    "    subgroup1 = points1[a[0:8]]\n",
    "    subgroup2 = points2[a[0:8]]\n",
    "    \n",
    "    # calculate fundamental matrix\n",
    "    f_matrix = cv2.findFundamentalMat(subgroup1, subgroup2, cv2.FM_8POINT)\n",
    "    \n",
    "    # calculate inliers\n",
    "    inliers_count = 0\n",
    "    for j in range(len(points1)):\n",
    "        d1 = np.matmul(np.array([np.append(points2[j], [1])]), \n",
    "                     np.matmul(f_matrix[0], np.array([np.append(points1[j], [1])]).transpose())\n",
    "                     )\n",
    "        d2 = np.matmul(f_matrix[0], np.array([np.append(points1[j], [1])]).transpose())\n",
    "        d3 = np.matmul(np.array([np.append(points2[j], [1])]), f_matrix[0])\n",
    "        distance = (d1[0,0] ** 2) * (\n",
    "            1 / (d2[0,0] ** 2 + d2[1,0] ** 2) + 1/ (d3[0,0] ** 2 + d3[0,1] ** 2))\n",
    "        if(distance <= 3):\n",
    "            inliers_count += 1\n",
    "    if(inliers_count > max_inliers):\n",
    "        max_inliers = inliers_count\n",
    "        best_f = f_matrix\n",
    "        best_index = a[0:8]\n",
    "        \n",
    "print(max_inliers)\n",
    "print(best_f)\n",
    "print(best_index)"
   ]
  },
  {
   "cell_type": "code",
   "execution_count": null,
   "metadata": {},
   "outputs": [],
   "source": [
    "plt.axis([0, 3000, 2000, 0])\n",
    "plt.imshow(image1_rgb)\n",
    "plt.plot(points1[:,0], points1[:,1], 'yo')\n",
    "for i in range(len(points2)):\n",
    "    t = np.matmul(np.array([np.append(points2[i], [1])]), best_f[0])[0]\n",
    "    x = np.linspace(0,3000,100)\n",
    "    y = (-t[2] -x * t[0])/ t[1]\n",
    "    plt.plot(x, y, '-r')"
   ]
  },
  {
   "cell_type": "code",
   "execution_count": null,
   "metadata": {},
   "outputs": [],
   "source": [
    "plt.axis([0, 3000, 2000, 0])\n",
    "plt.imshow(image2_rgb)\n",
    "plt.plot(points2[:,0], points2[:,1], 'yo')\n",
    "for i in range(len(points1)):\n",
    "    t = np.matmul(best_f[0], np.array([np.append(points1[i], [1])]).transpose())[:,0]\n",
    "    x = np.linspace(0,3000,100)\n",
    "    y = (-t[2] -x * t[0])/ t[1]\n",
    "    plt.plot(x, y, '-r')"
   ]
  },
  {
   "cell_type": "markdown",
   "metadata": {},
   "source": [
    "# Part c"
   ]
  },
  {
   "cell_type": "code",
   "execution_count": null,
   "metadata": {},
   "outputs": [],
   "source": [
    "# import points\n",
    "f = scipy.io.loadmat('info.mat')\n",
    "real_f = np.array(f['F'])"
   ]
  },
  {
   "cell_type": "code",
   "execution_count": null,
   "metadata": {},
   "outputs": [],
   "source": [
    "# real F\n",
    "print(real_f)"
   ]
  },
  {
   "cell_type": "code",
   "execution_count": null,
   "metadata": {},
   "outputs": [],
   "source": [
    "# part a F\n",
    "print(inlier_f_matrix[0])"
   ]
  },
  {
   "cell_type": "code",
   "execution_count": null,
   "metadata": {},
   "outputs": [],
   "source": [
    "# part b F\n",
    "print(best_f[0])"
   ]
  },
  {
   "cell_type": "markdown",
   "metadata": {},
   "source": [
    "## difference between part a and real F"
   ]
  },
  {
   "cell_type": "markdown",
   "metadata": {},
   "source": [
    "### compare part b and a with real f using inlier points of part a and image 1 (draw epilipolar geometry of image 1)"
   ]
  },
  {
   "cell_type": "code",
   "execution_count": null,
   "metadata": {},
   "outputs": [],
   "source": [
    "# white == real f\n",
    "# red == using inlier points to calc f\n",
    "\n",
    "plt.axis([0, 3000, 2000, 0])\n",
    "plt.imshow(image1_rgb)\n",
    "plt.plot(inlier_points1[:,0], inlier_points1[:,1], 'yo')\n",
    "for i in range(len(inlier_points2)):\n",
    "    t = np.matmul(np.array([np.append(inlier_points2[i], [1])]), inlier_f_matrix[0])[0]\n",
    "    x = np.linspace(0,3000,100)\n",
    "    y = (-t[2] -x * t[0])/ t[1]\n",
    "    plt.plot(x, y, '-r')\n",
    "    \n",
    "for i in range(len(inlier_points2)):\n",
    "    t = np.matmul(np.array([np.append(inlier_points2[i], [1])]), real_f)[0]\n",
    "    x = np.linspace(0,3000,100)\n",
    "    y = (-t[2] -x * t[0])/ t[1]\n",
    "    plt.plot(x, y, '-w')"
   ]
  },
  {
   "cell_type": "markdown",
   "metadata": {},
   "source": [
    "## difference between part b and real F"
   ]
  },
  {
   "cell_type": "code",
   "execution_count": null,
   "metadata": {},
   "outputs": [],
   "source": [
    "# white == real f\n",
    "# red == using inlier and outlier points to calc f\n",
    "\n",
    "plt.axis([0, 3000, 2000, 0])\n",
    "plt.imshow(image1_rgb)\n",
    "plt.plot(inlier_points1[:,0], inlier_points1[:,1], 'yo')\n",
    "for i in range(len(inlier_points2)):\n",
    "    t = np.matmul(np.array([np.append(inlier_points2[i], [1])]), best_f[0])[0]\n",
    "    x = np.linspace(0,3000,100)\n",
    "    y = (-t[2] -x * t[0])/ t[1]\n",
    "    plt.plot(x, y, '-r')\n",
    "    \n",
    "for i in range(len(inlier_points2)):\n",
    "    t = np.matmul(np.array([np.append(inlier_points2[i], [1])]), real_f)[0]\n",
    "    x = np.linspace(0,3000,100)\n",
    "    y = (-t[2] -x * t[0])/ t[1]\n",
    "    plt.plot(x, y, '-w')"
   ]
  },
  {
   "cell_type": "code",
   "execution_count": null,
   "metadata": {},
   "outputs": [],
   "source": []
  }
 ],
 "metadata": {
  "kernelspec": {
   "display_name": "Python 3",
   "language": "python",
   "name": "python3"
  },
  "language_info": {
   "codemirror_mode": {
    "name": "ipython",
    "version": 3
   },
   "file_extension": ".py",
   "mimetype": "text/x-python",
   "name": "python",
   "nbconvert_exporter": "python",
   "pygments_lexer": "ipython3",
   "version": "3.8.5"
  }
 },
 "nbformat": 4,
 "nbformat_minor": 4
}
